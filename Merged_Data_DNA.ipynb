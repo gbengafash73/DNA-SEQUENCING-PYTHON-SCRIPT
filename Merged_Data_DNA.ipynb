{
 "cells": [
  {
   "cell_type": "code",
   "execution_count": 1,
   "id": "161cede0",
   "metadata": {},
   "outputs": [],
   "source": [
    "import pandas as pd\n",
    "import matplotlib.pyplot as plt"
   ]
  },
  {
   "cell_type": "code",
   "execution_count": 2,
   "id": "8647ab06",
   "metadata": {},
   "outputs": [],
   "source": [
    "prev_data = pd.read_csv(\"DNA SEQUENCE DATASET.csv\", header=None, delimiter=',')"
   ]
  },
  {
   "cell_type": "code",
   "execution_count": 3,
   "id": "ed2e8a7f",
   "metadata": {},
   "outputs": [],
   "source": [
    "prev_data = prev_data.rename(columns={1:2})\n",
    "prev_data.insert(1, 1, \"\")"
   ]
  },
  {
   "cell_type": "code",
   "execution_count": 4,
   "id": "84c7d357",
   "metadata": {},
   "outputs": [
    {
     "data": {
      "text/plain": [
       "array(['Kenyan', 'Nigerian', 'Chinese', 'Indian', 'British', 'Canadian'],\n",
       "      dtype=object)"
      ]
     },
     "execution_count": 4,
     "metadata": {},
     "output_type": "execute_result"
    }
   ],
   "source": [
    "pd.unique(prev_data[0])"
   ]
  },
  {
   "cell_type": "code",
   "execution_count": 6,
   "id": "419d067d",
   "metadata": {},
   "outputs": [],
   "source": [
    "race = []\n",
    "for ctry in list(prev_data[0]):\n",
    "    if ctry == 'Kenyan':\n",
    "        race.append('African')\n",
    "    elif ctry == 'Nigerian':\n",
    "        race.append('African')\n",
    "    elif ctry == 'Chinese':\n",
    "        race.append('Asian')\n",
    "    elif ctry == 'Indian':\n",
    "        race.append('Asian')\n",
    "    elif ctry == 'British':\n",
    "        race.append('Caucasian')\n",
    "    elif ctry == 'Canadian':\n",
    "        race.append('Caucasian')\n",
    "    else:\n",
    "        race.append('Unknown')"
   ]
  },
  {
   "cell_type": "code",
   "execution_count": 7,
   "id": "a80274f5",
   "metadata": {},
   "outputs": [],
   "source": [
    "prev_data[1] = pd.DataFrame(race)"
   ]
  },
  {
   "cell_type": "code",
   "execution_count": 8,
   "id": "c443bd5b",
   "metadata": {},
   "outputs": [
    {
     "data": {
      "text/html": [
       "<div>\n",
       "<style scoped>\n",
       "    .dataframe tbody tr th:only-of-type {\n",
       "        vertical-align: middle;\n",
       "    }\n",
       "\n",
       "    .dataframe tbody tr th {\n",
       "        vertical-align: top;\n",
       "    }\n",
       "\n",
       "    .dataframe thead th {\n",
       "        text-align: right;\n",
       "    }\n",
       "</style>\n",
       "<table border=\"1\" class=\"dataframe\">\n",
       "  <thead>\n",
       "    <tr style=\"text-align: right;\">\n",
       "      <th></th>\n",
       "      <th>0</th>\n",
       "      <th>1</th>\n",
       "      <th>2</th>\n",
       "    </tr>\n",
       "  </thead>\n",
       "  <tbody>\n",
       "    <tr>\n",
       "      <th>0</th>\n",
       "      <td>Kenyan</td>\n",
       "      <td>African</td>\n",
       "      <td>TTCTTTCATGGGGAAGCAGATTTGGGTACCACCCAAGTATTGACTC...</td>\n",
       "    </tr>\n",
       "    <tr>\n",
       "      <th>1</th>\n",
       "      <td>Kenyan</td>\n",
       "      <td>African</td>\n",
       "      <td>TTCTTTCATGGGGAAGCAGATTTGGGTACCACCCAAGTATTGACTC...</td>\n",
       "    </tr>\n",
       "    <tr>\n",
       "      <th>2</th>\n",
       "      <td>Kenyan</td>\n",
       "      <td>African</td>\n",
       "      <td>TTCTTTCATGGGGAAGCAGATTTGGGTACCACCCAAGTATTGACTC...</td>\n",
       "    </tr>\n",
       "    <tr>\n",
       "      <th>3</th>\n",
       "      <td>Kenyan</td>\n",
       "      <td>African</td>\n",
       "      <td>TTCTTTCATGGGGAAGCAGATTTGGGTACCACCCAAGTATTGACTC...</td>\n",
       "    </tr>\n",
       "    <tr>\n",
       "      <th>4</th>\n",
       "      <td>Kenyan</td>\n",
       "      <td>African</td>\n",
       "      <td>TTCTTTCATGGGGAAGCAGATTTGGGTACCACCCAAGTATTGACTC...</td>\n",
       "    </tr>\n",
       "    <tr>\n",
       "      <th>...</th>\n",
       "      <td>...</td>\n",
       "      <td>...</td>\n",
       "      <td>...</td>\n",
       "    </tr>\n",
       "    <tr>\n",
       "      <th>265</th>\n",
       "      <td>Canadian</td>\n",
       "      <td>Caucasian</td>\n",
       "      <td>TTCTTTCATGGGGAAGCAGATTTGGGTACCACCCAAGTATTGACTC...</td>\n",
       "    </tr>\n",
       "    <tr>\n",
       "      <th>266</th>\n",
       "      <td>Canadian</td>\n",
       "      <td>Caucasian</td>\n",
       "      <td>TTCTTTCATGGGGAAGCAGATTTGGGTACCACCCAAGTATTGACTC...</td>\n",
       "    </tr>\n",
       "    <tr>\n",
       "      <th>267</th>\n",
       "      <td>Canadian</td>\n",
       "      <td>Caucasian</td>\n",
       "      <td>TTCTTTCATGGGGAAGCAGATTTGGGTACCACCCAAGTATTGACTC...</td>\n",
       "    </tr>\n",
       "    <tr>\n",
       "      <th>268</th>\n",
       "      <td>Canadian</td>\n",
       "      <td>Caucasian</td>\n",
       "      <td>TTCTTTCATGGGGAAGCAGATTTGGGTACCACCCAAGTATTGACTC...</td>\n",
       "    </tr>\n",
       "    <tr>\n",
       "      <th>269</th>\n",
       "      <td>Canadian</td>\n",
       "      <td>Caucasian</td>\n",
       "      <td>TTCTTTCATGGGGAAGCAGATTTGGGTACCACCCAAGTATTGACTC...</td>\n",
       "    </tr>\n",
       "  </tbody>\n",
       "</table>\n",
       "<p>270 rows × 3 columns</p>\n",
       "</div>"
      ],
      "text/plain": [
       "            0          1                                                  2\n",
       "0      Kenyan    African  TTCTTTCATGGGGAAGCAGATTTGGGTACCACCCAAGTATTGACTC...\n",
       "1      Kenyan    African  TTCTTTCATGGGGAAGCAGATTTGGGTACCACCCAAGTATTGACTC...\n",
       "2      Kenyan    African  TTCTTTCATGGGGAAGCAGATTTGGGTACCACCCAAGTATTGACTC...\n",
       "3      Kenyan    African  TTCTTTCATGGGGAAGCAGATTTGGGTACCACCCAAGTATTGACTC...\n",
       "4      Kenyan    African  TTCTTTCATGGGGAAGCAGATTTGGGTACCACCCAAGTATTGACTC...\n",
       "..        ...        ...                                                ...\n",
       "265  Canadian  Caucasian  TTCTTTCATGGGGAAGCAGATTTGGGTACCACCCAAGTATTGACTC...\n",
       "266  Canadian  Caucasian  TTCTTTCATGGGGAAGCAGATTTGGGTACCACCCAAGTATTGACTC...\n",
       "267  Canadian  Caucasian  TTCTTTCATGGGGAAGCAGATTTGGGTACCACCCAAGTATTGACTC...\n",
       "268  Canadian  Caucasian  TTCTTTCATGGGGAAGCAGATTTGGGTACCACCCAAGTATTGACTC...\n",
       "269  Canadian  Caucasian  TTCTTTCATGGGGAAGCAGATTTGGGTACCACCCAAGTATTGACTC...\n",
       "\n",
       "[270 rows x 3 columns]"
      ]
     },
     "execution_count": 8,
     "metadata": {},
     "output_type": "execute_result"
    }
   ],
   "source": [
    "prev_data"
   ]
  },
  {
   "cell_type": "code",
   "execution_count": 9,
   "id": "b8d16d4e",
   "metadata": {},
   "outputs": [],
   "source": [
    "new_data = pd.read_excel(\"GENETIC_2ND_DATASET.xlsx\", header=None)"
   ]
  },
  {
   "cell_type": "code",
   "execution_count": 10,
   "id": "3df0ae18",
   "metadata": {},
   "outputs": [],
   "source": [
    "nationality = []\n",
    "dna_sequence = []\n",
    "race = []\n",
    "cnt = 0\n",
    "for dna in range(len(new_data[0])):\n",
    "    if 'Ethiopian' in str(new_data[0][dna]) or 'Niger' in str(new_data[0][dna]):\n",
    "        nationality.append(new_data[0][dna])\n",
    "        dna_sequence.append(new_data[0][dna+1 : dna+6])\n",
    "        race.append('African')\n",
    "    elif 'Japanese' in str(new_data[0][dna]):\n",
    "        nationality.append(new_data[0][dna])\n",
    "        dna_sequence.append(new_data[0][dna+1 : dna+6])\n",
    "        race.append('Asian')\n",
    "    elif 'Korean' in str(new_data[0][dna]):\n",
    "        nationality.append(new_data[0][dna])\n",
    "        dna_sequence.append(new_data[0][dna+1 : dna+5])\n",
    "        race.append('Asian')\n",
    "    elif 'German' in str(new_data[0][dna]):\n",
    "        nationality.append(new_data[0][dna])\n",
    "        dna_sequence.append(new_data[0][dna+1 : dna+4])\n",
    "        race.append('Caucasian')\n",
    "    elif 'Russian' in str(new_data[0][dna]):\n",
    "        nationality.append(new_data[0][dna])\n",
    "        dna_sequence.append(new_data[0][dna+1 : dna+5])\n",
    "        race.append('Caucasian')"
   ]
  },
  {
   "cell_type": "code",
   "execution_count": 11,
   "id": "4609e28a",
   "metadata": {},
   "outputs": [],
   "source": [
    "dna_sequences = []\n",
    "for sequence in dna_sequence:\n",
    "    lst = ''.join(sequence)\n",
    "    dna_sequences.append(lst)"
   ]
  },
  {
   "cell_type": "code",
   "execution_count": 12,
   "id": "c35ebb02",
   "metadata": {},
   "outputs": [
    {
     "data": {
      "text/html": [
       "<div>\n",
       "<style scoped>\n",
       "    .dataframe tbody tr th:only-of-type {\n",
       "        vertical-align: middle;\n",
       "    }\n",
       "\n",
       "    .dataframe tbody tr th {\n",
       "        vertical-align: top;\n",
       "    }\n",
       "\n",
       "    .dataframe thead th {\n",
       "        text-align: right;\n",
       "    }\n",
       "</style>\n",
       "<table border=\"1\" class=\"dataframe\">\n",
       "  <thead>\n",
       "    <tr style=\"text-align: right;\">\n",
       "      <th></th>\n",
       "    </tr>\n",
       "  </thead>\n",
       "  <tbody>\n",
       "  </tbody>\n",
       "</table>\n",
       "</div>"
      ],
      "text/plain": [
       "Empty DataFrame\n",
       "Columns: []\n",
       "Index: []"
      ]
     },
     "execution_count": 12,
     "metadata": {},
     "output_type": "execute_result"
    }
   ],
   "source": [
    "cleaned_data = pd.DataFrame([])\n",
    "cleaned_data"
   ]
  },
  {
   "cell_type": "code",
   "execution_count": 13,
   "id": "ebcec204",
   "metadata": {},
   "outputs": [],
   "source": [
    "cleaned_data[0] = nationality\n",
    "cleaned_data[1] = race\n",
    "cleaned_data[2] = dna_sequences"
   ]
  },
  {
   "cell_type": "code",
   "execution_count": 14,
   "id": "c15864ca",
   "metadata": {},
   "outputs": [],
   "source": [
    "cleaned_data = cleaned_data.drop(134)"
   ]
  },
  {
   "cell_type": "code",
   "execution_count": 15,
   "id": "0e0c81d6",
   "metadata": {},
   "outputs": [
    {
     "data": {
      "text/html": [
       "<div>\n",
       "<style scoped>\n",
       "    .dataframe tbody tr th:only-of-type {\n",
       "        vertical-align: middle;\n",
       "    }\n",
       "\n",
       "    .dataframe tbody tr th {\n",
       "        vertical-align: top;\n",
       "    }\n",
       "\n",
       "    .dataframe thead th {\n",
       "        text-align: right;\n",
       "    }\n",
       "</style>\n",
       "<table border=\"1\" class=\"dataframe\">\n",
       "  <thead>\n",
       "    <tr style=\"text-align: right;\">\n",
       "      <th></th>\n",
       "      <th>0</th>\n",
       "      <th>1</th>\n",
       "      <th>2</th>\n",
       "    </tr>\n",
       "  </thead>\n",
       "  <tbody>\n",
       "    <tr>\n",
       "      <th>0</th>\n",
       "      <td>Ethiopian</td>\n",
       "      <td>African</td>\n",
       "      <td>TAAGATTCTAATTTAAACTATTCTCTGTTCTTTCATGGGGAAGCAG...</td>\n",
       "    </tr>\n",
       "    <tr>\n",
       "      <th>1</th>\n",
       "      <td>Ethiopian</td>\n",
       "      <td>African</td>\n",
       "      <td>TAAGATTCTAATTTAAACTATTCTCTGTTCTTTCATGGGGAAGCAG...</td>\n",
       "    </tr>\n",
       "    <tr>\n",
       "      <th>2</th>\n",
       "      <td>Ethiopian</td>\n",
       "      <td>African</td>\n",
       "      <td>TAAGATTCTAATTTAAACTACTCTCTGTTCTTTCATGGGGAAGCAG...</td>\n",
       "    </tr>\n",
       "    <tr>\n",
       "      <th>3</th>\n",
       "      <td>Ethiopian</td>\n",
       "      <td>African</td>\n",
       "      <td>TAAGATTCTAATTTAAACTATTCTCTGTTCTTTCATGGGGAAGCAG...</td>\n",
       "    </tr>\n",
       "    <tr>\n",
       "      <th>4</th>\n",
       "      <td>Ethiopian</td>\n",
       "      <td>African</td>\n",
       "      <td>TAAGATTCTAATTTAAACTATTCTCTGTTCTTTCATGGGGAAGCAG...</td>\n",
       "    </tr>\n",
       "    <tr>\n",
       "      <th>...</th>\n",
       "      <td>...</td>\n",
       "      <td>...</td>\n",
       "      <td>...</td>\n",
       "    </tr>\n",
       "    <tr>\n",
       "      <th>266</th>\n",
       "      <td>Russian</td>\n",
       "      <td>Caucasian</td>\n",
       "      <td>TTCTTTCATGGGGAAGCAGATTTGGGTACCACCCAAGTATTGACTC...</td>\n",
       "    </tr>\n",
       "    <tr>\n",
       "      <th>267</th>\n",
       "      <td>Russian</td>\n",
       "      <td>Caucasian</td>\n",
       "      <td>TTCTTTCATGGGGAAGCAGATTTGGGTACCACCCAAGTATTGACTC...</td>\n",
       "    </tr>\n",
       "    <tr>\n",
       "      <th>268</th>\n",
       "      <td>Russian</td>\n",
       "      <td>Caucasian</td>\n",
       "      <td>TTCTTTCATGGGGAAGCAGATTTGGGTACCACCCAAGTATTGACTC...</td>\n",
       "    </tr>\n",
       "    <tr>\n",
       "      <th>269</th>\n",
       "      <td>Russian</td>\n",
       "      <td>Caucasian</td>\n",
       "      <td>TTCTTTCATGGGGAAGCAGATTTGGGTACCACCCAAGTATTGACTC...</td>\n",
       "    </tr>\n",
       "    <tr>\n",
       "      <th>270</th>\n",
       "      <td>Russian</td>\n",
       "      <td>Caucasian</td>\n",
       "      <td>TTCTTTCATGGGGAAGCAGATTTGGGTACCACCCAAGTATTGACTC...</td>\n",
       "    </tr>\n",
       "  </tbody>\n",
       "</table>\n",
       "<p>270 rows × 3 columns</p>\n",
       "</div>"
      ],
      "text/plain": [
       "             0          1                                                  2\n",
       "0    Ethiopian    African  TAAGATTCTAATTTAAACTATTCTCTGTTCTTTCATGGGGAAGCAG...\n",
       "1    Ethiopian    African  TAAGATTCTAATTTAAACTATTCTCTGTTCTTTCATGGGGAAGCAG...\n",
       "2    Ethiopian    African  TAAGATTCTAATTTAAACTACTCTCTGTTCTTTCATGGGGAAGCAG...\n",
       "3    Ethiopian    African  TAAGATTCTAATTTAAACTATTCTCTGTTCTTTCATGGGGAAGCAG...\n",
       "4    Ethiopian    African  TAAGATTCTAATTTAAACTATTCTCTGTTCTTTCATGGGGAAGCAG...\n",
       "..         ...        ...                                                ...\n",
       "266    Russian  Caucasian  TTCTTTCATGGGGAAGCAGATTTGGGTACCACCCAAGTATTGACTC...\n",
       "267    Russian  Caucasian  TTCTTTCATGGGGAAGCAGATTTGGGTACCACCCAAGTATTGACTC...\n",
       "268    Russian  Caucasian  TTCTTTCATGGGGAAGCAGATTTGGGTACCACCCAAGTATTGACTC...\n",
       "269    Russian  Caucasian  TTCTTTCATGGGGAAGCAGATTTGGGTACCACCCAAGTATTGACTC...\n",
       "270    Russian  Caucasian  TTCTTTCATGGGGAAGCAGATTTGGGTACCACCCAAGTATTGACTC...\n",
       "\n",
       "[270 rows x 3 columns]"
      ]
     },
     "execution_count": 15,
     "metadata": {},
     "output_type": "execute_result"
    }
   ],
   "source": [
    "temp_data = cleaned_data[0].str.split(\" \",expand=True,)\n",
    "cleaned_data[0] = temp_data[0]\n",
    "cleaned_data"
   ]
  },
  {
   "cell_type": "code",
   "execution_count": 16,
   "id": "a53c554f",
   "metadata": {},
   "outputs": [],
   "source": [
    "data = prev_data.append(cleaned_data)\n",
    "\n",
    "data.head()"
   ]
  },
  {
   "cell_type": "code",
   "execution_count": 18,
   "id": "23d5313c",
   "metadata": {},
   "outputs": [
    {
     "data": {
      "text/html": [
       "<div>\n",
       "<style scoped>\n",
       "    .dataframe tbody tr th:only-of-type {\n",
       "        vertical-align: middle;\n",
       "    }\n",
       "\n",
       "    .dataframe tbody tr th {\n",
       "        vertical-align: top;\n",
       "    }\n",
       "\n",
       "    .dataframe thead th {\n",
       "        text-align: right;\n",
       "    }\n",
       "</style>\n",
       "<table border=\"1\" class=\"dataframe\">\n",
       "  <thead>\n",
       "    <tr style=\"text-align: right;\">\n",
       "      <th></th>\n",
       "      <th>0</th>\n",
       "      <th>1</th>\n",
       "      <th>2</th>\n",
       "    </tr>\n",
       "  </thead>\n",
       "  <tbody>\n",
       "    <tr>\n",
       "      <th>0</th>\n",
       "      <td>Kenyan</td>\n",
       "      <td>African</td>\n",
       "      <td>TTCTTTCATGGGGAAGCAGATTTGGGTACCACCCAAGTATTGACTC...</td>\n",
       "    </tr>\n",
       "    <tr>\n",
       "      <th>1</th>\n",
       "      <td>Kenyan</td>\n",
       "      <td>African</td>\n",
       "      <td>TTCTTTCATGGGGAAGCAGATTTGGGTACCACCCAAGTATTGACTC...</td>\n",
       "    </tr>\n",
       "    <tr>\n",
       "      <th>2</th>\n",
       "      <td>Kenyan</td>\n",
       "      <td>African</td>\n",
       "      <td>TTCTTTCATGGGGAAGCAGATTTGGGTACCACCCAAGTATTGACTC...</td>\n",
       "    </tr>\n",
       "    <tr>\n",
       "      <th>3</th>\n",
       "      <td>Kenyan</td>\n",
       "      <td>African</td>\n",
       "      <td>TTCTTTCATGGGGAAGCAGATTTGGGTACCACCCAAGTATTGACTC...</td>\n",
       "    </tr>\n",
       "    <tr>\n",
       "      <th>4</th>\n",
       "      <td>Kenyan</td>\n",
       "      <td>African</td>\n",
       "      <td>TTCTTTCATGGGGAAGCAGATTTGGGTACCACCCAAGTATTGACTC...</td>\n",
       "    </tr>\n",
       "    <tr>\n",
       "      <th>...</th>\n",
       "      <td>...</td>\n",
       "      <td>...</td>\n",
       "      <td>...</td>\n",
       "    </tr>\n",
       "    <tr>\n",
       "      <th>266</th>\n",
       "      <td>Russian</td>\n",
       "      <td>Caucasian</td>\n",
       "      <td>TTCTTTCATGGGGAAGCAGATTTGGGTACCACCCAAGTATTGACTC...</td>\n",
       "    </tr>\n",
       "    <tr>\n",
       "      <th>267</th>\n",
       "      <td>Russian</td>\n",
       "      <td>Caucasian</td>\n",
       "      <td>TTCTTTCATGGGGAAGCAGATTTGGGTACCACCCAAGTATTGACTC...</td>\n",
       "    </tr>\n",
       "    <tr>\n",
       "      <th>268</th>\n",
       "      <td>Russian</td>\n",
       "      <td>Caucasian</td>\n",
       "      <td>TTCTTTCATGGGGAAGCAGATTTGGGTACCACCCAAGTATTGACTC...</td>\n",
       "    </tr>\n",
       "    <tr>\n",
       "      <th>269</th>\n",
       "      <td>Russian</td>\n",
       "      <td>Caucasian</td>\n",
       "      <td>TTCTTTCATGGGGAAGCAGATTTGGGTACCACCCAAGTATTGACTC...</td>\n",
       "    </tr>\n",
       "    <tr>\n",
       "      <th>270</th>\n",
       "      <td>Russian</td>\n",
       "      <td>Caucasian</td>\n",
       "      <td>TTCTTTCATGGGGAAGCAGATTTGGGTACCACCCAAGTATTGACTC...</td>\n",
       "    </tr>\n",
       "  </tbody>\n",
       "</table>\n",
       "<p>540 rows × 3 columns</p>\n",
       "</div>"
      ],
      "text/plain": [
       "           0          1                                                  2\n",
       "0     Kenyan    African  TTCTTTCATGGGGAAGCAGATTTGGGTACCACCCAAGTATTGACTC...\n",
       "1     Kenyan    African  TTCTTTCATGGGGAAGCAGATTTGGGTACCACCCAAGTATTGACTC...\n",
       "2     Kenyan    African  TTCTTTCATGGGGAAGCAGATTTGGGTACCACCCAAGTATTGACTC...\n",
       "3     Kenyan    African  TTCTTTCATGGGGAAGCAGATTTGGGTACCACCCAAGTATTGACTC...\n",
       "4     Kenyan    African  TTCTTTCATGGGGAAGCAGATTTGGGTACCACCCAAGTATTGACTC...\n",
       "..       ...        ...                                                ...\n",
       "266  Russian  Caucasian  TTCTTTCATGGGGAAGCAGATTTGGGTACCACCCAAGTATTGACTC...\n",
       "267  Russian  Caucasian  TTCTTTCATGGGGAAGCAGATTTGGGTACCACCCAAGTATTGACTC...\n",
       "268  Russian  Caucasian  TTCTTTCATGGGGAAGCAGATTTGGGTACCACCCAAGTATTGACTC...\n",
       "269  Russian  Caucasian  TTCTTTCATGGGGAAGCAGATTTGGGTACCACCCAAGTATTGACTC...\n",
       "270  Russian  Caucasian  TTCTTTCATGGGGAAGCAGATTTGGGTACCACCCAAGTATTGACTC...\n",
       "\n",
       "[540 rows x 3 columns]"
      ]
     },
     "execution_count": 18,
     "metadata": {},
     "output_type": "execute_result"
    }
   ],
   "source": [
    "data"
   ]
  },
  {
   "cell_type": "code",
   "execution_count": 19,
   "id": "a4d2058c",
   "metadata": {},
   "outputs": [
    {
     "data": {
      "text/plain": [
       "LabelEncoder()"
      ]
     },
     "execution_count": 19,
     "metadata": {},
     "output_type": "execute_result"
    }
   ],
   "source": [
    "import numpy as np\n",
    "import re\n",
    "\n",
    "def string_to_array(my_string):\n",
    "    my_string = my_string.lower()\n",
    "    my_string = re.sub('[^acgt]', 'z', my_string)\n",
    "    my_array = np.array(list(my_string))\n",
    "    return my_array\n",
    "\n",
    "# create a label encoder with 'acgtn' alphabet\n",
    "from sklearn.preprocessing import LabelEncoder\n",
    "label_encoder = LabelEncoder()\n",
    "label_encoder.fit(np.array(['a','c','g','t','z']))"
   ]
  },
  {
   "cell_type": "code",
   "execution_count": 20,
   "id": "0ea7c9ee",
   "metadata": {},
   "outputs": [],
   "source": [
    "# function to one-hot encode a DNA sequence string\n",
    "# non 'acgt' bases (n) are 0000\n",
    "# returns a L x 4 numpy array\n",
    "from sklearn.preprocessing import OneHotEncoder\n",
    "def one_hot_encoder(my_array):\n",
    "    integer_encoded = label_encoder.transform(my_array)\n",
    "    onehot_encoder = OneHotEncoder(sparse=False, dtype=int)\n",
    "    integer_encoded = integer_encoded.reshape(len(integer_encoded), 1)\n",
    "    onehot_encoded = onehot_encoder.fit_transform(integer_encoded)\n",
    "    onehot_encoded = np.delete(onehot_encoded, -1, 1)\n",
    "    return onehot_encoded"
   ]
  },
  {
   "cell_type": "code",
   "execution_count": 21,
   "id": "d8cef816",
   "metadata": {},
   "outputs": [
    {
     "data": {
      "text/plain": [
       "array([[1, 0, 0, 0],\n",
       "       [1, 0, 0, 0],\n",
       "       [0, 1, 0, 0],\n",
       "       [0, 0, 1, 0],\n",
       "       [0, 1, 0, 0],\n",
       "       [0, 0, 1, 0],\n",
       "       [0, 0, 1, 0],\n",
       "       [0, 0, 0, 1],\n",
       "       [0, 0, 0, 1],\n",
       "       [0, 0, 0, 0],\n",
       "       [0, 0, 0, 0]])"
      ]
     },
     "execution_count": 21,
     "metadata": {},
     "output_type": "execute_result"
    }
   ],
   "source": [
    "test_sequence = 'AACGCGGTTNN'\n",
    "one_hot_encoder(string_to_array(test_sequence))"
   ]
  },
  {
   "cell_type": "code",
   "execution_count": 22,
   "id": "7f4434c8",
   "metadata": {},
   "outputs": [],
   "source": [
    "def getKmers(sequence, size):\n",
    "    return [sequence[x:x+size].lower() for x in range(len(sequence) - size + 1)]"
   ]
  },
  {
   "cell_type": "code",
   "execution_count": 23,
   "id": "7d807802",
   "metadata": {},
   "outputs": [
    {
     "data": {
      "text/plain": [
       "'aacgcg acgcgg cgcggt gcggtt cggttn ggttnn'"
      ]
     },
     "execution_count": 23,
     "metadata": {},
     "output_type": "execute_result"
    }
   ],
   "source": [
    "words = getKmers(test_sequence, size=6)\n",
    "sentence = ' '.join(words)\n",
    "sentence\n"
   ]
  },
  {
   "cell_type": "code",
   "execution_count": 24,
   "id": "78affedd",
   "metadata": {},
   "outputs": [
    {
     "data": {
      "text/html": [
       "<div>\n",
       "<style scoped>\n",
       "    .dataframe tbody tr th:only-of-type {\n",
       "        vertical-align: middle;\n",
       "    }\n",
       "\n",
       "    .dataframe tbody tr th {\n",
       "        vertical-align: top;\n",
       "    }\n",
       "\n",
       "    .dataframe thead th {\n",
       "        text-align: right;\n",
       "    }\n",
       "</style>\n",
       "<table border=\"1\" class=\"dataframe\">\n",
       "  <thead>\n",
       "    <tr style=\"text-align: right;\">\n",
       "      <th></th>\n",
       "      <th>0</th>\n",
       "      <th>1</th>\n",
       "      <th>2</th>\n",
       "    </tr>\n",
       "  </thead>\n",
       "  <tbody>\n",
       "    <tr>\n",
       "      <th>0</th>\n",
       "      <td>Kenyan</td>\n",
       "      <td>African</td>\n",
       "      <td>TTCTTTCATGGGGAAGCAGATTTGGGTACCACCCAAGTATTGACTC...</td>\n",
       "    </tr>\n",
       "    <tr>\n",
       "      <th>1</th>\n",
       "      <td>Kenyan</td>\n",
       "      <td>African</td>\n",
       "      <td>TTCTTTCATGGGGAAGCAGATTTGGGTACCACCCAAGTATTGACTC...</td>\n",
       "    </tr>\n",
       "    <tr>\n",
       "      <th>2</th>\n",
       "      <td>Kenyan</td>\n",
       "      <td>African</td>\n",
       "      <td>TTCTTTCATGGGGAAGCAGATTTGGGTACCACCCAAGTATTGACTC...</td>\n",
       "    </tr>\n",
       "    <tr>\n",
       "      <th>3</th>\n",
       "      <td>Kenyan</td>\n",
       "      <td>African</td>\n",
       "      <td>TTCTTTCATGGGGAAGCAGATTTGGGTACCACCCAAGTATTGACTC...</td>\n",
       "    </tr>\n",
       "    <tr>\n",
       "      <th>4</th>\n",
       "      <td>Kenyan</td>\n",
       "      <td>African</td>\n",
       "      <td>TTCTTTCATGGGGAAGCAGATTTGGGTACCACCCAAGTATTGACTC...</td>\n",
       "    </tr>\n",
       "    <tr>\n",
       "      <th>...</th>\n",
       "      <td>...</td>\n",
       "      <td>...</td>\n",
       "      <td>...</td>\n",
       "    </tr>\n",
       "    <tr>\n",
       "      <th>266</th>\n",
       "      <td>Russian</td>\n",
       "      <td>Caucasian</td>\n",
       "      <td>TTCTTTCATGGGGAAGCAGATTTGGGTACCACCCAAGTATTGACTC...</td>\n",
       "    </tr>\n",
       "    <tr>\n",
       "      <th>267</th>\n",
       "      <td>Russian</td>\n",
       "      <td>Caucasian</td>\n",
       "      <td>TTCTTTCATGGGGAAGCAGATTTGGGTACCACCCAAGTATTGACTC...</td>\n",
       "    </tr>\n",
       "    <tr>\n",
       "      <th>268</th>\n",
       "      <td>Russian</td>\n",
       "      <td>Caucasian</td>\n",
       "      <td>TTCTTTCATGGGGAAGCAGATTTGGGTACCACCCAAGTATTGACTC...</td>\n",
       "    </tr>\n",
       "    <tr>\n",
       "      <th>269</th>\n",
       "      <td>Russian</td>\n",
       "      <td>Caucasian</td>\n",
       "      <td>TTCTTTCATGGGGAAGCAGATTTGGGTACCACCCAAGTATTGACTC...</td>\n",
       "    </tr>\n",
       "    <tr>\n",
       "      <th>270</th>\n",
       "      <td>Russian</td>\n",
       "      <td>Caucasian</td>\n",
       "      <td>TTCTTTCATGGGGAAGCAGATTTGGGTACCACCCAAGTATTGACTC...</td>\n",
       "    </tr>\n",
       "  </tbody>\n",
       "</table>\n",
       "<p>540 rows × 3 columns</p>\n",
       "</div>"
      ],
      "text/plain": [
       "           0          1                                                  2\n",
       "0     Kenyan    African  TTCTTTCATGGGGAAGCAGATTTGGGTACCACCCAAGTATTGACTC...\n",
       "1     Kenyan    African  TTCTTTCATGGGGAAGCAGATTTGGGTACCACCCAAGTATTGACTC...\n",
       "2     Kenyan    African  TTCTTTCATGGGGAAGCAGATTTGGGTACCACCCAAGTATTGACTC...\n",
       "3     Kenyan    African  TTCTTTCATGGGGAAGCAGATTTGGGTACCACCCAAGTATTGACTC...\n",
       "4     Kenyan    African  TTCTTTCATGGGGAAGCAGATTTGGGTACCACCCAAGTATTGACTC...\n",
       "..       ...        ...                                                ...\n",
       "266  Russian  Caucasian  TTCTTTCATGGGGAAGCAGATTTGGGTACCACCCAAGTATTGACTC...\n",
       "267  Russian  Caucasian  TTCTTTCATGGGGAAGCAGATTTGGGTACCACCCAAGTATTGACTC...\n",
       "268  Russian  Caucasian  TTCTTTCATGGGGAAGCAGATTTGGGTACCACCCAAGTATTGACTC...\n",
       "269  Russian  Caucasian  TTCTTTCATGGGGAAGCAGATTTGGGTACCACCCAAGTATTGACTC...\n",
       "270  Russian  Caucasian  TTCTTTCATGGGGAAGCAGATTTGGGTACCACCCAAGTATTGACTC...\n",
       "\n",
       "[540 rows x 3 columns]"
      ]
     },
     "execution_count": 24,
     "metadata": {},
     "output_type": "execute_result"
    }
   ],
   "source": [
    "data"
   ]
  },
  {
   "cell_type": "code",
   "execution_count": 25,
   "id": "25a0c510",
   "metadata": {},
   "outputs": [],
   "source": [
    "bag_of_sentences = []\n",
    "for i in data[2]:\n",
    "    words = getKmers(i, size=6)\n",
    "    sentence = ' '.join(words)\n",
    "    bag_of_sentences.append(sentence)"
   ]
  },
  {
   "cell_type": "code",
   "execution_count": 26,
   "id": "ad09cc5c",
   "metadata": {},
   "outputs": [],
   "source": [
    "# Creating the Bag of Words model\n",
    "from sklearn.feature_extraction.text import CountVectorizer\n",
    "cv = CountVectorizer()\n",
    "X = cv.fit_transform(bag_of_sentences).toarray()"
   ]
  },
  {
   "cell_type": "code",
   "execution_count": 30,
   "id": "6074d1d9",
   "metadata": {},
   "outputs": [],
   "source": [
    "oldX = X[:270]\n",
    "newX = X[270:]"
   ]
  },
  {
   "cell_type": "code",
   "execution_count": 31,
   "id": "46853194",
   "metadata": {},
   "outputs": [
    {
     "data": {
      "text/plain": [
       "((270, 1115), (270, 1115))"
      ]
     },
     "execution_count": 31,
     "metadata": {},
     "output_type": "execute_result"
    }
   ],
   "source": [
    "oldX.shape, newX.shape"
   ]
  },
  {
   "cell_type": "code",
   "execution_count": 32,
   "id": "f3697647",
   "metadata": {},
   "outputs": [],
   "source": [
    "old_y = data[1][:270]\n",
    "new_y = data[1][270:]"
   ]
  },
  {
   "cell_type": "code",
   "execution_count": 34,
   "id": "9a35d975",
   "metadata": {},
   "outputs": [],
   "source": [
    "old_y = np.array(old_y).reshape((270,1))\n",
    "new_y = np.array(new_y).reshape((270,1))"
   ]
  },
  {
   "cell_type": "code",
   "execution_count": 35,
   "id": "88f81496",
   "metadata": {},
   "outputs": [],
   "source": [
    "from numpy import asarray\n",
    "onehot_encoder = OneHotEncoder(sparse=False)\n",
    "old_y_h = onehot_encoder.fit_transform(old_y)\n",
    "new_y_h = onehot_encoder.fit_transform(new_y)"
   ]
  },
  {
   "cell_type": "code",
   "execution_count": 36,
   "id": "d895e40f",
   "metadata": {},
   "outputs": [
    {
     "data": {
      "text/plain": [
       "array([[1., 0., 0.],\n",
       "       [1., 0., 0.],\n",
       "       [1., 0., 0.],\n",
       "       [1., 0., 0.],\n",
       "       [1., 0., 0.]])"
      ]
     },
     "execution_count": 36,
     "metadata": {},
     "output_type": "execute_result"
    }
   ],
   "source": [
    "new_y_h[:5]"
   ]
  },
  {
   "cell_type": "code",
   "execution_count": 42,
   "id": "abf28fac",
   "metadata": {},
   "outputs": [],
   "source": [
    "old_y_n = data[1][:270].astype('category')\n",
    "old_y_n = old_y_n.cat.codes\n",
    "new_y_n = data[1][270:].astype('category')\n",
    "new_y_n = new_y_n.cat.codes"
   ]
  },
  {
   "cell_type": "code",
   "execution_count": 43,
   "id": "a223879e",
   "metadata": {},
   "outputs": [
    {
     "data": {
      "text/plain": [
       "(270,)"
      ]
     },
     "execution_count": 43,
     "metadata": {},
     "output_type": "execute_result"
    }
   ],
   "source": [
    "old_y_n.shape"
   ]
  },
  {
   "cell_type": "code",
   "execution_count": 44,
   "id": "56970a6f",
   "metadata": {},
   "outputs": [],
   "source": [
    "# Splitting the human dataset into the training set and test set\n",
    "from sklearn.model_selection import train_test_split\n",
    "X_train, X_test, y_train, y_test = train_test_split(oldX, \n",
    "                                                    old_y_n, \n",
    "                                                    test_size = 0.20, \n",
    "                                                    random_state=42)\n"
   ]
  },
  {
   "cell_type": "code",
   "execution_count": 45,
   "id": "b171c5b3",
   "metadata": {},
   "outputs": [
    {
     "name": "stdout",
     "output_type": "stream",
     "text": [
      "(216, 1115)\n",
      "(54, 1115)\n"
     ]
    }
   ],
   "source": [
    "print(X_train.shape)\n",
    "print(X_test.shape)\n"
   ]
  },
  {
   "cell_type": "code",
   "execution_count": 46,
   "id": "814f5c7b",
   "metadata": {},
   "outputs": [
    {
     "data": {
      "text/plain": [
       "(216,)"
      ]
     },
     "execution_count": 46,
     "metadata": {},
     "output_type": "execute_result"
    }
   ],
   "source": [
    "y_train.shape"
   ]
  },
  {
   "cell_type": "code",
   "execution_count": null,
   "id": "4bbbe580",
   "metadata": {},
   "outputs": [],
   "source": []
  },
  {
   "cell_type": "markdown",
   "id": "b205ded5",
   "metadata": {},
   "source": [
    "# Modelling"
   ]
  },
  {
   "cell_type": "code",
   "execution_count": 53,
   "id": "24aa70fd",
   "metadata": {},
   "outputs": [
    {
     "data": {
      "text/plain": [
       "<AxesSubplot:>"
      ]
     },
     "execution_count": 53,
     "metadata": {},
     "output_type": "execute_result"
    },
    {
     "data": {
      "image/png": "[encoded data removed]",
      "text/plain": [
       "<Figure size 432x288 with 2 Axes>"
      ]
     },
     "metadata": {
      "needs_background": "light"
     },
     "output_type": "display_data"
    }
   ],
   "source": [
    "import seaborn as sns\n",
    "from sklearn.metrics import accuracy_score, f1_score, precision_score, recall_score, confusion_matrix\n",
    "\n",
    "\n",
    "### Multinomial Naive Bayes Classifier ###\n",
    "# The alpha parameter was determined by grid search previously\n",
    "from sklearn.naive_bayes import MultinomialNB\n",
    "classifier = MultinomialNB(alpha=0.1)\n",
    "classifier.fit(X_train, y_train)\n",
    "\n",
    "y_pred = classifier.predict(X_test)\n",
    "df_cm = confusion_matrix(y_test, y_pred)\n",
    "sns.heatmap(df_cm, annot=True)"
   ]
  },
  {
   "cell_type": "code",
   "execution_count": 54,
   "id": "45e940b5",
   "metadata": {},
   "outputs": [
    {
     "name": "stdout",
     "output_type": "stream",
     "text": [
      "accuracy = 0.889 \n",
      "precision = 0.918 \n",
      "recall = 0.889 \n",
      "f1 = 0.885\n"
     ]
    }
   ],
   "source": [
    "def get_metrics(y_test, y_predicted):\n",
    "    accuracy = accuracy_score(y_test, y_predicted)\n",
    "    precision = precision_score(y_test, y_predicted, average='weighted')\n",
    "    recall = recall_score(y_test, y_predicted, average='weighted')\n",
    "    f1 = f1_score(y_test, y_predicted, average='weighted')\n",
    "    return accuracy, precision, recall, f1\n",
    "\n",
    "\n",
    "accuracy, precision, recall, f1 = get_metrics(y_test, y_pred)\n",
    "print(\"accuracy = %.3f \\nprecision = %.3f \\nrecall = %.3f \\nf1 = %.3f\" % (accuracy, precision, recall, f1))"
   ]
  },
  {
   "cell_type": "code",
   "execution_count": 48,
   "id": "4f78a797",
   "metadata": {},
   "outputs": [
    {
     "data": {
      "text/plain": [
       "((54, 1115), (540, 1115))"
      ]
     },
     "execution_count": 48,
     "metadata": {},
     "output_type": "execute_result"
    }
   ],
   "source": [
    "X_test.shape\n"
   ]
  },
  {
   "cell_type": "code",
   "execution_count": 58,
   "id": "c526d6b1",
   "metadata": {},
   "outputs": [
    {
     "name": "stdout",
     "output_type": "stream",
     "text": [
      "accuracy = 0.452 \n",
      "precision = 0.430 \n",
      "recall = 0.452 \n",
      "f1 = 0.432\n"
     ]
    },
    {
     "data": {
      "image/png": "[encoded data removed]",
      "text/plain": [
       "<Figure size 432x288 with 2 Axes>"
      ]
     },
     "metadata": {
      "needs_background": "light"
     },
     "output_type": "display_data"
    }
   ],
   "source": [
    "y_pred = classifier.predict(newX)\n",
    "df_cm = confusion_matrix(new_y_n, y_pred)\n",
    "sns.heatmap(df_cm, annot=True)\n",
    "\n",
    "accuracy, precision, recall, f1 = get_metrics(new_y_n, y_pred)\n",
    "print(\"accuracy = %.3f \\nprecision = %.3f \\nrecall = %.3f \\nf1 = %.3f\" % (accuracy, precision, recall, f1))"
   ]
  },
  {
   "cell_type": "code",
   "execution_count": 62,
   "id": "8ffaa15f",
   "metadata": {},
   "outputs": [
    {
     "name": "stdout",
     "output_type": "stream",
     "text": [
      "accuracy = 0.889 \n",
      "precision = 0.918 \n",
      "recall = 0.889 \n",
      "f1 = 0.885\n"
     ]
    },
    {
     "data": {
      "text/plain": [
       "<AxesSubplot:>"
      ]
     },
     "execution_count": 62,
     "metadata": {},
     "output_type": "execute_result"
    },
    {
     "data": {
      "image/png": "[encoded data removed]",
      "text/plain": [
       "<Figure size 432x288 with 2 Axes>"
      ]
     },
     "metadata": {
      "needs_background": "light"
     },
     "output_type": "display_data"
    }
   ],
   "source": [
    "from sklearn.svm import SVC\n",
    "classifier = SVC(gamma='auto')\n",
    "classifier.fit(X_train, y_train)\n",
    "\n",
    "y_pred = classifier.predict(X_test)\n",
    "\n",
    "accuracy, precision, recall, f1 = get_metrics(y_test, y_pred)\n",
    "print(\"accuracy = %.3f \\nprecision = %.3f \\nrecall = %.3f \\nf1 = %.3f\" % (accuracy, precision, recall, f1))\n",
    "\n",
    "df_cm = confusion_matrix(y_test, y_pred)\n",
    "sns.heatmap(df_cm, annot=True)"
   ]
  },
  {
   "cell_type": "code",
   "execution_count": 63,
   "id": "2a6eb33c",
   "metadata": {},
   "outputs": [
    {
     "name": "stdout",
     "output_type": "stream",
     "text": [
      "accuracy = 0.648 \n",
      "precision = 0.433 \n",
      "recall = 0.648 \n",
      "f1 = 0.519\n"
     ]
    },
    {
     "name": "stderr",
     "output_type": "stream",
     "text": [
      "/home/jherrhy/anaconda3/envs/ocr/lib/python3.8/site-packages/sklearn/metrics/_classification.py:1248: UndefinedMetricWarning: Precision is ill-defined and being set to 0.0 in labels with no predicted samples. Use `zero_division` parameter to control this behavior.\n",
      "  _warn_prf(average, modifier, msg_start, len(result))\n"
     ]
    },
    {
     "data": {
      "image/png": "[encoded data removed]",
      "text/plain": [
       "<Figure size 432x288 with 2 Axes>"
      ]
     },
     "metadata": {
      "needs_background": "light"
     },
     "output_type": "display_data"
    }
   ],
   "source": [
    "y_pred = classifier.predict(newX)\n",
    "df_cm = confusion_matrix(new_y_n, y_pred)\n",
    "sns.heatmap(df_cm, annot=True)\n",
    "\n",
    "accuracy, precision, recall, f1 = get_metrics(new_y_n, y_pred)\n",
    "print(\"accuracy = %.3f \\nprecision = %.3f \\nrecall = %.3f \\nf1 = %.3f\" % (accuracy, precision, recall, f1))"
   ]
  },
  {
   "cell_type": "code",
   "execution_count": 64,
   "id": "a0f3d399",
   "metadata": {},
   "outputs": [
    {
     "name": "stdout",
     "output_type": "stream",
     "text": [
      "accuracy = 0.889 \n",
      "precision = 0.918 \n",
      "recall = 0.889 \n",
      "f1 = 0.885\n"
     ]
    },
    {
     "data": {
      "text/plain": [
       "<AxesSubplot:>"
      ]
     },
     "execution_count": 64,
     "metadata": {},
     "output_type": "execute_result"
    },
    {
     "data": {
      "image/png": "[encoded data removed]",
      "text/plain": [
       "<Figure size 432x288 with 2 Axes>"
      ]
     },
     "metadata": {
      "needs_background": "light"
     },
     "output_type": "display_data"
    }
   ],
   "source": [
    "from sklearn.ensemble import RandomForestClassifier\n",
    "classifier = RandomForestClassifier(max_depth=2, random_state=0)\n",
    "classifier.fit(X_train, y_train)\n",
    "\n",
    "y_pred = classifier.predict(X_test)\n",
    "\n",
    "accuracy, precision, recall, f1 = get_metrics(y_test, y_pred)\n",
    "print(\"accuracy = %.3f \\nprecision = %.3f \\nrecall = %.3f \\nf1 = %.3f\" % (accuracy, precision, recall, f1))\n",
    "\n",
    "df_cm = confusion_matrix(y_test, y_pred)\n",
    "sns.heatmap(df_cm, annot=True)"
   ]
  },
  {
   "cell_type": "code",
   "execution_count": 65,
   "id": "e7073374",
   "metadata": {},
   "outputs": [
    {
     "name": "stdout",
     "output_type": "stream",
     "text": [
      "accuracy = 0.470 \n",
      "precision = 0.351 \n",
      "recall = 0.470 \n",
      "f1 = 0.365\n"
     ]
    },
    {
     "name": "stderr",
     "output_type": "stream",
     "text": [
      "/home/jherrhy/anaconda3/envs/ocr/lib/python3.8/site-packages/sklearn/metrics/_classification.py:1248: UndefinedMetricWarning: Precision is ill-defined and being set to 0.0 in labels with no predicted samples. Use `zero_division` parameter to control this behavior.\n",
      "  _warn_prf(average, modifier, msg_start, len(result))\n"
     ]
    },
    {
     "data": {
      "image/png": "[encoded data removed]",
      "text/plain": [
       "<Figure size 432x288 with 2 Axes>"
      ]
     },
     "metadata": {
      "needs_background": "light"
     },
     "output_type": "display_data"
    }
   ],
   "source": [
    "y_pred = classifier.predict(newX)\n",
    "df_cm = confusion_matrix(new_y_n, y_pred)\n",
    "sns.heatmap(df_cm, annot=True)\n",
    "\n",
    "accuracy, precision, recall, f1 = get_metrics(new_y_n, y_pred)\n",
    "print(\"accuracy = %.3f \\nprecision = %.3f \\nrecall = %.3f \\nf1 = %.3f\" % (accuracy, precision, recall, f1))"
   ]
  },
  {
   "cell_type": "code",
   "execution_count": 66,
   "id": "49f4be04",
   "metadata": {},
   "outputs": [
    {
     "name": "stdout",
     "output_type": "stream",
     "text": [
      "accuracy = 0.889 \n",
      "precision = 0.889 \n",
      "recall = 0.889 \n",
      "f1 = 0.889\n"
     ]
    },
    {
     "data": {
      "text/plain": [
       "<AxesSubplot:>"
      ]
     },
     "execution_count": 66,
     "metadata": {},
     "output_type": "execute_result"
    },
    {
     "data": {
      "image/png": "[encoded data removed]",
      "text/plain": [
       "<Figure size 432x288 with 2 Axes>"
      ]
     },
     "metadata": {
      "needs_background": "light"
     },
     "output_type": "display_data"
    }
   ],
   "source": [
    "from sklearn.discriminant_analysis import LinearDiscriminantAnalysis\n",
    "\n",
    "classifier = LinearDiscriminantAnalysis()\n",
    "classifier.fit(X_train, y_train)\n",
    "y_pred = classifier.predict(X_test)\n",
    "\n",
    "accuracy, precision, recall, f1 = get_metrics(y_test, y_pred)\n",
    "print(\"accuracy = %.3f \\nprecision = %.3f \\nrecall = %.3f \\nf1 = %.3f\" % (accuracy, precision, recall, f1))\n",
    "\n",
    "\n",
    "df_cm = confusion_matrix(y_test, y_pred)\n",
    "sns.heatmap(df_cm, annot=True)\n",
    "\n"
   ]
  },
  {
   "cell_type": "code",
   "execution_count": 67,
   "id": "92db7332",
   "metadata": {},
   "outputs": [
    {
     "name": "stdout",
     "output_type": "stream",
     "text": [
      "accuracy = 0.548 \n",
      "precision = 0.556 \n",
      "recall = 0.548 \n",
      "f1 = 0.548\n"
     ]
    },
    {
     "data": {
      "image/png": "[encoded data removed]",
      "text/plain": [
       "<Figure size 432x288 with 2 Axes>"
      ]
     },
     "metadata": {
      "needs_background": "light"
     },
     "output_type": "display_data"
    }
   ],
   "source": [
    "y_pred = classifier.predict(newX)\n",
    "df_cm = confusion_matrix(new_y_n, y_pred)\n",
    "sns.heatmap(df_cm, annot=True)\n",
    "\n",
    "accuracy, precision, recall, f1 = get_metrics(new_y_n, y_pred)\n",
    "print(\"accuracy = %.3f \\nprecision = %.3f \\nrecall = %.3f \\nf1 = %.3f\" % (accuracy, precision, recall, f1))"
   ]
  },
  {
   "cell_type": "code",
   "execution_count": 72,
   "id": "7311d8f2",
   "metadata": {},
   "outputs": [
    {
     "name": "stderr",
     "output_type": "stream",
     "text": [
      "/home/jherrhy/anaconda3/envs/ocr/lib/python3.8/site-packages/sklearn/discriminant_analysis.py:808: UserWarning: Variables are collinear\n",
      "  warnings.warn(\"Variables are collinear\")\n"
     ]
    },
    {
     "name": "stdout",
     "output_type": "stream",
     "text": [
      "accuracy = 0.796 \n",
      "precision = 0.823 \n",
      "recall = 0.796 \n",
      "f1 = 0.800\n"
     ]
    },
    {
     "data": {
      "text/plain": [
       "<AxesSubplot:>"
      ]
     },
     "execution_count": 72,
     "metadata": {},
     "output_type": "execute_result"
    },
    {
     "data": {
      "image/png": "[encoded data removed]",
      "text/plain": [
       "<Figure size 432x288 with 2 Axes>"
      ]
     },
     "metadata": {
      "needs_background": "light"
     },
     "output_type": "display_data"
    }
   ],
   "source": [
    "from sklearn.discriminant_analysis import QuadraticDiscriminantAnalysis\n",
    "\n",
    "classifier = QuadraticDiscriminantAnalysis()\n",
    "classifier.fit(X_train, y_train)\n",
    "y_pred = classifier.predict(X_test)\n",
    "\n",
    "accuracy, precision, recall, f1 = get_metrics(y_test, y_pred)\n",
    "print(\"accuracy = %.3f \\nprecision = %.3f \\nrecall = %.3f \\nf1 = %.3f\" % (accuracy, precision, recall, f1))\n",
    "\n",
    "\n",
    "df_cm = confusion_matrix(y_test, y_pred)\n",
    "sns.heatmap(df_cm, annot=True)\n",
    "\n"
   ]
  },
  {
   "cell_type": "code",
   "execution_count": 73,
   "id": "e07cfc66",
   "metadata": {},
   "outputs": [
    {
     "name": "stdout",
     "output_type": "stream",
     "text": [
      "accuracy = 0.452 \n",
      "precision = 0.328 \n",
      "recall = 0.452 \n",
      "f1 = 0.370\n"
     ]
    },
    {
     "name": "stderr",
     "output_type": "stream",
     "text": [
      "/home/jherrhy/anaconda3/envs/ocr/lib/python3.8/site-packages/sklearn/metrics/_classification.py:1248: UndefinedMetricWarning: Precision is ill-defined and being set to 0.0 in labels with no predicted samples. Use `zero_division` parameter to control this behavior.\n",
      "  _warn_prf(average, modifier, msg_start, len(result))\n"
     ]
    },
    {
     "data": {
      "image/png": "[encoded data removed]",
      "text/plain": [
       "<Figure size 432x288 with 2 Axes>"
      ]
     },
     "metadata": {
      "needs_background": "light"
     },
     "output_type": "display_data"
    }
   ],
   "source": [
    "y_pred = classifier.predict(newX)\n",
    "df_cm = confusion_matrix(new_y_n, y_pred)\n",
    "sns.heatmap(df_cm, annot=True)\n",
    "\n",
    "accuracy, precision, recall, f1 = get_metrics(new_y_n, y_pred)\n",
    "print(\"accuracy = %.3f \\nprecision = %.3f \\nrecall = %.3f \\nf1 = %.3f\" % (accuracy, precision, recall, f1))"
   ]
  },
  {
   "cell_type": "code",
   "execution_count": 74,
   "id": "f400f67a",
   "metadata": {},
   "outputs": [],
   "source": [
    "from sklearn.decomposition import PCA"
   ]
  },
  {
   "cell_type": "code",
   "execution_count": 75,
   "id": "4af764d5",
   "metadata": {},
   "outputs": [
    {
     "data": {
      "image/png": "[encoded data removed]",
      "text/plain": [
       "<Figure size 432x288 with 1 Axes>"
      ]
     },
     "metadata": {
      "needs_background": "light"
     },
     "output_type": "display_data"
    }
   ],
   "source": [
    "pca = PCA().fit(X_train)\n",
    "plt.plot(np.cumsum(pca.explained_variance_ratio_))\n",
    "plt.title(\"PCA\")\n",
    "plt.xlabel('number of components')\n",
    "plt.ylabel('cumulative explained variance');"
   ]
  },
  {
   "cell_type": "code",
   "execution_count": 81,
   "id": "30c6292f",
   "metadata": {},
   "outputs": [],
   "source": [
    "pca = PCA(0.95)\n",
    "pca.fit(X_train)\n",
    "n_components = pca.n_components_\n",
    "old_x_data_traind = pca.transform(X_train)\n",
    "\n",
    "old_x_data_test = pca.transform(X_test)\n",
    "pca_newX = pca.transform(newX)"
   ]
  },
  {
   "cell_type": "code",
   "execution_count": 82,
   "id": "ed4c8aea",
   "metadata": {},
   "outputs": [
    {
     "name": "stdout",
     "output_type": "stream",
     "text": [
      "accuracy = 0.926 \n",
      "precision = 0.929 \n",
      "recall = 0.926 \n",
      "f1 = 0.926\n"
     ]
    },
    {
     "data": {
      "text/plain": [
       "<AxesSubplot:>"
      ]
     },
     "execution_count": 82,
     "metadata": {},
     "output_type": "execute_result"
    },
    {
     "data": {
      "image/png": "[encoded data removed]",
      "text/plain": [
       "<Figure size 432x288 with 2 Axes>"
      ]
     },
     "metadata": {
      "needs_background": "light"
     },
     "output_type": "display_data"
    }
   ],
   "source": [
    "from sklearn.svm import SVC\n",
    "classifier = SVC(gamma='auto')\n",
    "classifier.fit(old_x_data_traind, y_train)\n",
    "\n",
    "y_pred = classifier.predict(old_x_data_test)\n",
    "accuracy, precision, recall, f1 = get_metrics(y_test, y_pred)\n",
    "print(\"accuracy = %.3f \\nprecision = %.3f \\nrecall = %.3f \\nf1 = %.3f\" % (accuracy, precision, recall, f1))\n",
    "\n",
    "df_cm = confusion_matrix(y_test, y_pred)\n",
    "sns.heatmap(df_cm, annot=True)"
   ]
  },
  {
   "cell_type": "code",
   "execution_count": 83,
   "id": "2bcff0c2",
   "metadata": {},
   "outputs": [
    {
     "name": "stdout",
     "output_type": "stream",
     "text": [
      "accuracy = 0.619 \n",
      "precision = 0.622 \n",
      "recall = 0.619 \n",
      "f1 = 0.598\n"
     ]
    },
    {
     "data": {
      "image/png": "[encoded data removed]",
      "text/plain": [
       "<Figure size 432x288 with 2 Axes>"
      ]
     },
     "metadata": {
      "needs_background": "light"
     },
     "output_type": "display_data"
    }
   ],
   "source": [
    "y_pred = classifier.predict(pca_newX)\n",
    "df_cm = confusion_matrix(new_y_n, y_pred)\n",
    "sns.heatmap(df_cm, annot=True)\n",
    "\n",
    "accuracy, precision, recall, f1 = get_metrics(new_y_n, y_pred)\n",
    "print(\"accuracy = %.3f \\nprecision = %.3f \\nrecall = %.3f \\nf1 = %.3f\" % (accuracy, precision, recall, f1))"
   ]
  },
  {
   "cell_type": "code",
   "execution_count": 84,
   "id": "afa5170d",
   "metadata": {},
   "outputs": [
    {
     "name": "stdout",
     "output_type": "stream",
     "text": [
      "accuracy = 0.944 \n",
      "precision = 0.953 \n",
      "recall = 0.944 \n",
      "f1 = 0.944\n"
     ]
    },
    {
     "data": {
      "text/plain": [
       "<AxesSubplot:>"
      ]
     },
     "execution_count": 84,
     "metadata": {},
     "output_type": "execute_result"
    },
    {
     "data": {
      "image/png": "[encoded data removed]",
      "text/plain": [
       "<Figure size 432x288 with 2 Axes>"
      ]
     },
     "metadata": {
      "needs_background": "light"
     },
     "output_type": "display_data"
    }
   ],
   "source": [
    "from sklearn.ensemble import RandomForestClassifier\n",
    "classifier = RandomForestClassifier(max_depth=2, random_state=0)\n",
    "classifier.fit(old_x_data_traind, y_train)\n",
    "\n",
    "y_pred = classifier.predict(old_x_data_test)\n",
    "accuracy, precision, recall, f1 = get_metrics(y_test, y_pred)\n",
    "print(\"accuracy = %.3f \\nprecision = %.3f \\nrecall = %.3f \\nf1 = %.3f\" % (accuracy, precision, recall, f1))\n",
    "\n",
    "df_cm = confusion_matrix(y_test, y_pred)\n",
    "sns.heatmap(df_cm, annot=True)"
   ]
  },
  {
   "cell_type": "code",
   "execution_count": 85,
   "id": "6312cb80",
   "metadata": {},
   "outputs": [
    {
     "name": "stdout",
     "output_type": "stream",
     "text": [
      "accuracy = 0.652 \n",
      "precision = 0.681 \n",
      "recall = 0.652 \n",
      "f1 = 0.621\n"
     ]
    },
    {
     "data": {
      "image/png": "[encoded data removed]",
      "text/plain": [
       "<Figure size 432x288 with 2 Axes>"
      ]
     },
     "metadata": {
      "needs_background": "light"
     },
     "output_type": "display_data"
    }
   ],
   "source": [
    "y_pred = classifier.predict(pca_newX)\n",
    "df_cm = confusion_matrix(new_y_n, y_pred)\n",
    "sns.heatmap(df_cm, annot=True)\n",
    "\n",
    "accuracy, precision, recall, f1 = get_metrics(new_y_n, y_pred)\n",
    "print(\"accuracy = %.3f \\nprecision = %.3f \\nrecall = %.3f \\nf1 = %.3f\" % (accuracy, precision, recall, f1))"
   ]
  },
  {
   "cell_type": "code",
   "execution_count": 86,
   "id": "16e01b44",
   "metadata": {},
   "outputs": [
    {
     "name": "stdout",
     "output_type": "stream",
     "text": [
      "accuracy = 0.926 \n",
      "precision = 0.926 \n",
      "recall = 0.926 \n",
      "f1 = 0.926\n"
     ]
    },
    {
     "data": {
      "text/plain": [
       "<AxesSubplot:>"
      ]
     },
     "execution_count": 86,
     "metadata": {},
     "output_type": "execute_result"
    },
    {
     "data": {
      "image/png": "[encoded data removed]",
      "text/plain": [
       "<Figure size 432x288 with 2 Axes>"
      ]
     },
     "metadata": {
      "needs_background": "light"
     },
     "output_type": "display_data"
    }
   ],
   "source": [
    "from sklearn.discriminant_analysis import LinearDiscriminantAnalysis\n",
    "\n",
    "classifier = LinearDiscriminantAnalysis()\n",
    "classifier.fit(old_x_data_traind, y_train)\n",
    "y_pred = classifier.predict(old_x_data_test)\n",
    "\n",
    "accuracy, precision, recall, f1 = get_metrics(y_test, y_pred)\n",
    "print(\"accuracy = %.3f \\nprecision = %.3f \\nrecall = %.3f \\nf1 = %.3f\" % (accuracy, precision, recall, f1))\n",
    "\n",
    "\n",
    "df_cm = confusion_matrix(y_test, y_pred)\n",
    "sns.heatmap(df_cm, annot=True)"
   ]
  },
  {
   "cell_type": "code",
   "execution_count": 87,
   "id": "f25b17a3",
   "metadata": {},
   "outputs": [
    {
     "name": "stdout",
     "output_type": "stream",
     "text": [
      "accuracy = 0.504 \n",
      "precision = 0.671 \n",
      "recall = 0.504 \n",
      "f1 = 0.397\n"
     ]
    },
    {
     "data": {
      "image/png": "[encoded data removed]",
      "text/plain": [
       "<Figure size 432x288 with 2 Axes>"
      ]
     },
     "metadata": {
      "needs_background": "light"
     },
     "output_type": "display_data"
    }
   ],
   "source": [
    "y_pred = classifier.predict(pca_newX)\n",
    "df_cm = confusion_matrix(new_y_n, y_pred)\n",
    "sns.heatmap(df_cm, annot=True)\n",
    "\n",
    "accuracy, precision, recall, f1 = get_metrics(new_y_n, y_pred)\n",
    "print(\"accuracy = %.3f \\nprecision = %.3f \\nrecall = %.3f \\nf1 = %.3f\" % (accuracy, precision, recall, f1))"
   ]
  },
  {
   "cell_type": "code",
   "execution_count": 88,
   "id": "e67d7b14",
   "metadata": {},
   "outputs": [
    {
     "name": "stdout",
     "output_type": "stream",
     "text": [
      "accuracy = 0.815 \n",
      "precision = 0.866 \n",
      "recall = 0.815 \n",
      "f1 = 0.820\n"
     ]
    },
    {
     "name": "stderr",
     "output_type": "stream",
     "text": [
      "/home/jherrhy/anaconda3/envs/ocr/lib/python3.8/site-packages/sklearn/discriminant_analysis.py:808: UserWarning: Variables are collinear\n",
      "  warnings.warn(\"Variables are collinear\")\n"
     ]
    },
    {
     "data": {
      "text/plain": [
       "<AxesSubplot:>"
      ]
     },
     "execution_count": 88,
     "metadata": {},
     "output_type": "execute_result"
    },
    {
     "data": {
      "image/png": "[encoded data removed]",
      "text/plain": [
       "<Figure size 432x288 with 2 Axes>"
      ]
     },
     "metadata": {
      "needs_background": "light"
     },
     "output_type": "display_data"
    }
   ],
   "source": [
    "from sklearn.discriminant_analysis import QuadraticDiscriminantAnalysis\n",
    "\n",
    "classifier = QuadraticDiscriminantAnalysis()\n",
    "classifier.fit(old_x_data_traind, y_train)\n",
    "y_pred = classifier.predict(old_x_data_test)\n",
    "\n",
    "accuracy, precision, recall, f1 = get_metrics(y_test, y_pred)\n",
    "print(\"accuracy = %.3f \\nprecision = %.3f \\nrecall = %.3f \\nf1 = %.3f\" % (accuracy, precision, recall, f1))\n",
    "\n",
    "\n",
    "df_cm = confusion_matrix(y_test, y_pred)\n",
    "sns.heatmap(df_cm, annot=True)\n",
    "\n"
   ]
  },
  {
   "cell_type": "code",
   "execution_count": 89,
   "id": "1e714f22",
   "metadata": {},
   "outputs": [
    {
     "name": "stdout",
     "output_type": "stream",
     "text": [
      "accuracy = 0.344 \n",
      "precision = 0.446 \n",
      "recall = 0.344 \n",
      "f1 = 0.190\n"
     ]
    },
    {
     "name": "stderr",
     "output_type": "stream",
     "text": [
      "/home/jherrhy/anaconda3/envs/ocr/lib/python3.8/site-packages/sklearn/metrics/_classification.py:1248: UndefinedMetricWarning: Precision is ill-defined and being set to 0.0 in labels with no predicted samples. Use `zero_division` parameter to control this behavior.\n",
      "  _warn_prf(average, modifier, msg_start, len(result))\n"
     ]
    },
    {
     "data": {
      "image/png": "[encoded data removed]",
      "text/plain": [
       "<Figure size 432x288 with 2 Axes>"
      ]
     },
     "metadata": {
      "needs_background": "light"
     },
     "output_type": "display_data"
    }
   ],
   "source": [
    "y_pred = classifier.predict(pca_newX)\n",
    "df_cm = confusion_matrix(new_y_n, y_pred)\n",
    "sns.heatmap(df_cm, annot=True)\n",
    "\n",
    "accuracy, precision, recall, f1 = get_metrics(new_y_n, y_pred)\n",
    "print(\"accuracy = %.3f \\nprecision = %.3f \\nrecall = %.3f \\nf1 = %.3f\" % (accuracy, precision, recall, f1))"
   ]
  },
  {
   "cell_type": "code",
   "execution_count": null,
   "id": "c20377f6",
   "metadata": {},
   "outputs": [],
   "source": []
  },
  {
   "cell_type": "code",
   "execution_count": null,
   "id": "185e21cc",
   "metadata": {},
   "outputs": [],
   "source": []
  },
  {
   "cell_type": "code",
   "execution_count": null,
   "id": "556b209d",
   "metadata": {},
   "outputs": [],
   "source": []
  },
  {
   "cell_type": "code",
   "execution_count": null,
   "id": "15944187",
   "metadata": {},
   "outputs": [],
   "source": []
  },
  {
   "cell_type": "code",
   "execution_count": null,
   "id": "b1141bb0",
   "metadata": {},
   "outputs": [],
   "source": []
  }
 ],
 "metadata": {
  "kernelspec": {
   "display_name": "Python 3",
   "language": "python",
   "name": "python3"
  },
  "language_info": {
   "codemirror_mode": {
    "name": "ipython",
    "version": 3
   },
   "file_extension": ".py",
   "mimetype": "text/x-python",
   "name": "python",
   "nbconvert_exporter": "python",
   "pygments_lexer": "ipython3",
   "version": "3.8.8"
  }
 },
 "nbformat": 4,
 "nbformat_minor": 5
}
